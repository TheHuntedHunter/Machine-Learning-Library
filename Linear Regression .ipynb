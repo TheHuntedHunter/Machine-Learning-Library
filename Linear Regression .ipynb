{
 "cells": [
  {
   "cell_type": "markdown",
   "id": "eae6c650",
   "metadata": {},
   "source": [
    "Linear Regression "
   ]
  },
  {
   "cell_type": "code",
   "execution_count": 150,
   "id": "d7ff10fe",
   "metadata": {},
   "outputs": [],
   "source": [
    "import numpy as np \n",
    "#regular gradient descent. \n",
    "def gradient_descent_vanilla(x, y, a = 0.01, e = 15000, l = 0.7):\n",
    "\n",
    "    w = np.zeros((x.shape[1],1))\n",
    "    b = 0\n",
    "    \n",
    "    m = x.shape[0]\n",
    "    \n",
    "    for i in range(e):\n",
    "        h = x @ w + b \n",
    "        error = h - y \n",
    "        dw = (1/m)* (x.T @ error)\n",
    "        db = (1/m)* (np.sum(error))\n",
    "        \n",
    "        w = w - a*dw - l*w/m \n",
    "        b = b - a*db - l*b/m \n",
    "        \n",
    "    return w,b"
   ]
  },
  {
   "cell_type": "code",
   "execution_count": 2,
   "id": "1f3bcce4",
   "metadata": {},
   "outputs": [],
   "source": [
    "#gradient_descent with momentum and regularization. \n",
    "def gradient_descent_momentum(x, y, a = 0.01, e = 10000, l = 0.7, beta = 0.9):\n",
    "\n",
    "    w = np.zeros((x.shape[1],1))\n",
    "    b = 0\n",
    "    \n",
    "    m = x.shape[0]\n",
    "    v_w = 0 \n",
    "    v_b = 0 \n",
    "    \n",
    "    for i in range(e):\n",
    "        h = x @ w + b \n",
    "        error = h - y \n",
    "        dw = (1/m)* (x.T @ error)\n",
    "        db = (1/m)* (np.sum(error))\n",
    "        \n",
    "        v_w = beta*v_w + (1-beta)*dw \n",
    "        v_b = b*v_b + (1-beta)*db \n",
    "        \n",
    "        w = w - a*v_w - l*w/m\n",
    "        b = b - a*v_b - l*b/m \n",
    "        \n",
    "    return w,b"
   ]
  },
  {
   "cell_type": "code",
   "execution_count": 217,
   "id": "a23e3749",
   "metadata": {},
   "outputs": [],
   "source": [
    "#gradient descent with adam optimization. \n",
    "def gradient_descent_adam(x, y, a = 0.1, t = 1500, l = 0.7, beta1 = 0.9, beta2 = 0.999, epsilon = 1e-08):\n",
    "\n",
    "    w = np.zeros((x.shape[1],1))\n",
    "    b = 0\n",
    "    \n",
    "    m = x.shape[0]\n",
    "    v_w = 0 \n",
    "    v_b = 0 \n",
    "    \n",
    "    s_w = 0 \n",
    "    s_b = 0 \n",
    "    \n",
    "    for i in range(t):\n",
    "        h = x @ w + b \n",
    "        error = h - y \n",
    "        dw = (1/m)* (x.T @ error)\n",
    "        db = (1/m)* (np.sum(error))\n",
    "        \n",
    "        v_w = beta1*v_w + (1-beta1)*dw \n",
    "        v_b = beta1*v_b + (1-beta1)*db \n",
    "        \n",
    "        s_w = beta2*s_w + (1-beta2)*dw**2 \n",
    "        s_b = beta2*s_b + (1-beta2)*db**2 \n",
    "        \n",
    "        v_w_c = v_w/(1 - beta1**t)\n",
    "        v_b_c = v_b/(1 - beta1**t)\n",
    "        \n",
    "        s_w_c = s_w/(1 - beta2**t)\n",
    "        s_b_c = s_b/(1 - beta2**t)\n",
    "        \n",
    "        \n",
    "        \n",
    "        \n",
    "        w = w - a*v_w_c/(s_w_c**(0.5) + epsilon) - l*w/m\n",
    "        b = b - a*v_b_c/(s_b_c**(0.5) + epsilon) - l*b/m \n",
    "        \n",
    "    return w,b"
   ]
  },
  {
   "cell_type": "markdown",
   "id": "e8922f86",
   "metadata": {},
   "source": [
    "Data Normalization"
   ]
  },
  {
   "cell_type": "code",
   "execution_count": 171,
   "id": "0e8c5ff7",
   "metadata": {},
   "outputs": [],
   "source": [
    "import pandas as pd \n",
    "\n",
    "df = pd.read_csv('linear_train.csv')\n",
    "x_train = np.array(df.iloc[:,1:21])\n",
    "y_train = np.array(df.iloc[:,21:22])\n"
   ]
  },
  {
   "cell_type": "code",
   "execution_count": 210,
   "id": "efd2ad44",
   "metadata": {},
   "outputs": [],
   "source": [
    "def normalize(x):\n",
    "    min_val = np.min(x, axis=0)\n",
    "    max_val = np.max(x, axis=0)\n",
    "    ranges = max_val - min_val \n",
    "\n",
    "    normalized_data = (x - min_val) / ranges\n",
    "    return normalized_data \n",
    "\n",
    "normalized_x = normalize(x_train)\n",
    "normalized_y = normalize(y_train)"
   ]
  },
  {
   "cell_type": "markdown",
   "id": "5c1862a2",
   "metadata": {},
   "source": [
    "Testing gradient descent algorithms "
   ]
  },
  {
   "cell_type": "code",
   "execution_count": 133,
   "id": "f350ae57",
   "metadata": {},
   "outputs": [
    {
     "name": "stdout",
     "output_type": "stream",
     "text": [
      "--- 12.001650094985962 seconds ---\n"
     ]
    }
   ],
   "source": [
    "import time\n",
    "start_time = time.time()\n",
    "w,b = gradient_descent_momentum(normalized_x, normalized_y)\n",
    "w,b\n",
    "print(\"--- %s seconds ---\" % (time.time() - start_time))"
   ]
  },
  {
   "cell_type": "code",
   "execution_count": 151,
   "id": "9486ee1e",
   "metadata": {},
   "outputs": [
    {
     "name": "stdout",
     "output_type": "stream",
     "text": [
      "--- 18.181382179260254 seconds ---\n"
     ]
    }
   ],
   "source": [
    "start_time = time.time()\n",
    "w_,b_ = gradient_descent_vanilla(normalized_x, normalized_y)\n",
    "w_,b_\n",
    "print(\"--- %s seconds ---\" % (time.time() - start_time))"
   ]
  },
  {
   "cell_type": "code",
   "execution_count": 218,
   "id": "d435aec9",
   "metadata": {},
   "outputs": [
    {
     "name": "stdout",
     "output_type": "stream",
     "text": [
      "--- 1.9830615520477295 seconds ---\n"
     ]
    }
   ],
   "source": [
    "start_time = time.time()\n",
    "w_a, b_a = gradient_descent_adam(normalized_x, normalized_y)\n",
    "w_a, b_a\n",
    "print(\"--- %s seconds ---\" % (time.time() - start_time))"
   ]
  },
  {
   "cell_type": "markdown",
   "id": "361a6287",
   "metadata": {},
   "source": [
    "Testing "
   ]
  },
  {
   "cell_type": "code",
   "execution_count": 174,
   "id": "9198c3d6",
   "metadata": {},
   "outputs": [],
   "source": [
    "df_test = pd.read_csv('linear_test_data.csv')\n",
    "x_test = df_test.iloc[:,14:15]\n"
   ]
  },
  {
   "cell_type": "code",
   "execution_count": 233,
   "id": "06b46638",
   "metadata": {},
   "outputs": [
    {
     "data": {
      "text/plain": [
       "LinearRegression()"
      ]
     },
     "execution_count": 233,
     "metadata": {},
     "output_type": "execute_result"
    }
   ],
   "source": [
    "from sklearn.linear_model import LinearRegression \n",
    "\n",
    "lr = LinearRegression()\n",
    "#reshaping x_train as a 2D array -\n",
    "\n",
    "lr.fit(normalized_x, normalized_y)"
   ]
  },
  {
   "cell_type": "code",
   "execution_count": 234,
   "id": "f5241e69",
   "metadata": {},
   "outputs": [
    {
     "data": {
      "text/plain": [
       "array([[ 3.08768040e-01,  2.67779658e-01,  3.78048123e-01,\n",
       "         6.78392429e-03,  7.76528102e-02,  1.02033070e-01,\n",
       "         2.75139813e-01,  1.32774944e-01,  7.74896459e-02,\n",
       "         3.93211746e-01,  1.61475401e-01,  1.45876260e-01,\n",
       "         1.25740634e-02,  2.75314987e+10, -2.75314987e+10,\n",
       "         2.00757244e-01,  8.35007879e-02,  1.40230969e-01,\n",
       "         1.36722742e-01,  1.59381626e-01]])"
      ]
     },
     "execution_count": 234,
     "metadata": {},
     "output_type": "execute_result"
    }
   ],
   "source": [
    "m = lr.coef_\n",
    "m"
   ]
  },
  {
   "cell_type": "code",
   "execution_count": 235,
   "id": "6c1e4d90",
   "metadata": {},
   "outputs": [
    {
     "data": {
      "text/plain": [
       "array([-1.21789525])"
      ]
     },
     "execution_count": 235,
     "metadata": {},
     "output_type": "execute_result"
    }
   ],
   "source": [
    "c = lr.intercept_\n",
    "c"
   ]
  },
  {
   "cell_type": "code",
   "execution_count": 236,
   "id": "9523131c",
   "metadata": {},
   "outputs": [
    {
     "data": {
      "text/plain": [
       "(array([[ 0.2991884 ],\n",
       "        [ 0.26046354],\n",
       "        [ 0.37031374],\n",
       "        [-0.00103859],\n",
       "        [ 0.06726719],\n",
       "        [ 0.09400967],\n",
       "        [ 0.2680924 ],\n",
       "        [ 0.12265618],\n",
       "        [ 0.07037365],\n",
       "        [ 0.38491626],\n",
       "        [ 0.1547047 ],\n",
       "        [ 0.13841969],\n",
       "        [ 0.00302743],\n",
       "        [ 0.16401391],\n",
       "        [ 0.16401391],\n",
       "        [ 0.19195581],\n",
       "        [ 0.07623713],\n",
       "        [ 0.13161089],\n",
       "        [ 0.12806266],\n",
       "        [ 0.15143659]]),\n",
       " -1.1389677131121125)"
      ]
     },
     "execution_count": 236,
     "metadata": {},
     "output_type": "execute_result"
    }
   ],
   "source": [
    "w_a, b_a"
   ]
  },
  {
   "cell_type": "code",
   "execution_count": 244,
   "id": "44e675f7",
   "metadata": {},
   "outputs": [],
   "source": [
    "def r2_score(y_pred, y_test):\n",
    "    rss = np.sum((y_pred - y_test)**2)\n",
    "    tss = np.sum((y_test - np.mean(y_test))**2)\n",
    "    r = 1 - rss/tss\n",
    "    return r"
   ]
  },
  {
   "cell_type": "code",
   "execution_count": 245,
   "id": "8ca8f068",
   "metadata": {},
   "outputs": [
    {
     "data": {
      "text/plain": [
       "array([[0.38791634],\n",
       "       [0.47727039],\n",
       "       [0.70182748],\n",
       "       ...,\n",
       "       [0.50552213],\n",
       "       [0.65523373],\n",
       "       [0.31063012]])"
      ]
     },
     "execution_count": 245,
     "metadata": {},
     "output_type": "execute_result"
    }
   ],
   "source": [
    "normalized_x @ w_a + b_a"
   ]
  },
  {
   "cell_type": "code",
   "execution_count": 246,
   "id": "b926d2a4",
   "metadata": {},
   "outputs": [
    {
     "data": {
      "text/plain": [
       "array([[0.36779872],\n",
       "       [0.55049488],\n",
       "       [0.66866161],\n",
       "       ...,\n",
       "       [0.47313444],\n",
       "       [0.69345611],\n",
       "       [0.22891573]])"
      ]
     },
     "execution_count": 246,
     "metadata": {},
     "output_type": "execute_result"
    }
   ],
   "source": [
    "normalized_y"
   ]
  },
  {
   "cell_type": "code",
   "execution_count": 247,
   "id": "ca1300ad",
   "metadata": {},
   "outputs": [
    {
     "data": {
      "text/plain": [
       "0.8416039111266782"
      ]
     },
     "execution_count": 247,
     "metadata": {},
     "output_type": "execute_result"
    }
   ],
   "source": [
    "r2_score(normalized_x @ w_a + b_a, normalized_y)"
   ]
  },
  {
   "cell_type": "code",
   "execution_count": 249,
   "id": "0e35bbb2",
   "metadata": {},
   "outputs": [
    {
     "data": {
      "text/plain": [
       "0.8428783264665048"
      ]
     },
     "execution_count": 249,
     "metadata": {},
     "output_type": "execute_result"
    }
   ],
   "source": [
    "r2_score(normalized_x @ m.T + c, normalized_y)"
   ]
  },
  {
   "cell_type": "code",
   "execution_count": 251,
   "id": "fc7c1e2a",
   "metadata": {},
   "outputs": [
    {
     "data": {
      "text/plain": [
       "0.6612908021307451"
      ]
     },
     "execution_count": 251,
     "metadata": {},
     "output_type": "execute_result"
    }
   ],
   "source": [
    "r2_score(normalized_x @ w_ + b_, normalized_y)"
   ]
  },
  {
   "cell_type": "code",
   "execution_count": 227,
   "id": "3a746d5f",
   "metadata": {},
   "outputs": [],
   "source": [
    "y_pred = normalized_x @ w_a + b_a "
   ]
  },
  {
   "cell_type": "code",
   "execution_count": 228,
   "id": "034dce9d",
   "metadata": {},
   "outputs": [],
   "source": [
    "def mse(y_pred, y_actual):\n",
    "    err = np.sum((y_pred - y_actual)**2)/len(y_pred)\n",
    "    return err \n"
   ]
  },
  {
   "cell_type": "code",
   "execution_count": 252,
   "id": "bbff821a",
   "metadata": {},
   "outputs": [
    {
     "data": {
      "text/plain": [
       "0.0023176185150267487"
      ]
     },
     "execution_count": 252,
     "metadata": {},
     "output_type": "execute_result"
    }
   ],
   "source": [
    "mse(y_pred, normalized_y)"
   ]
  },
  {
   "cell_type": "code",
   "execution_count": 262,
   "id": "6df31236",
   "metadata": {},
   "outputs": [
    {
     "data": {
      "text/plain": [
       "array([[ 146.79064077,  223.71180565,   -0.88137077, ...,    4.88054597,\n",
       "         125.78555074,  800.20477227],\n",
       "       [  33.25365297,  285.93522871,   -3.35261115, ...,   30.74826423,\n",
       "         130.8324214 ,  736.11914334],\n",
       "       [ 180.53179872,  208.42034341,    9.84618777, ...,  -44.22657541,\n",
       "           7.93928048,  833.65673771],\n",
       "       ...,\n",
       "       [-208.06214994,  218.78847063,   -9.15764925, ...,   -5.94135997,\n",
       "         -67.82122337,  811.02237566],\n",
       "       [ 246.77261619,  229.34815412,   54.29351768, ...,   67.34885785,\n",
       "         363.34733553,  748.9426883 ],\n",
       "       [ 151.89825368,  261.23698597,  -85.46693489, ...,    8.9994506 ,\n",
       "         -22.70322019,  790.46707145]])"
      ]
     },
     "execution_count": 262,
     "metadata": {},
     "output_type": "execute_result"
    }
   ],
   "source": [
    "df = pd.read_csv('linear_test_data.csv')\n",
    "x_test = np.array(df.iloc[:,1:21])\n",
    "y_test = np.array(df.iloc[:,21:22])\n",
    "x_test"
   ]
  },
  {
   "cell_type": "code",
   "execution_count": 263,
   "id": "da3358df",
   "metadata": {},
   "outputs": [],
   "source": [
    "normalized_test = normalize(x_test)"
   ]
  },
  {
   "cell_type": "code",
   "execution_count": 264,
   "id": "541e38f3",
   "metadata": {},
   "outputs": [
    {
     "data": {
      "text/plain": [
       "array([[0.4967296 ],\n",
       "       [0.58358216],\n",
       "       [0.53873098],\n",
       "       ...,\n",
       "       [0.53463429],\n",
       "       [0.62612933],\n",
       "       [0.42242837]])"
      ]
     },
     "execution_count": 264,
     "metadata": {},
     "output_type": "execute_result"
    }
   ],
   "source": [
    "normalized_test @ w_a + b_a"
   ]
  },
  {
   "cell_type": "code",
   "execution_count": 265,
   "id": "295ca5ac",
   "metadata": {},
   "outputs": [],
   "source": [
    "#Re-normalize. "
   ]
  },
  {
   "cell_type": "code",
   "execution_count": null,
   "id": "c3817d14",
   "metadata": {},
   "outputs": [],
   "source": []
  }
 ],
 "metadata": {
  "kernelspec": {
   "display_name": "Python 3 (ipykernel)",
   "language": "python",
   "name": "python3"
  },
  "language_info": {
   "codemirror_mode": {
    "name": "ipython",
    "version": 3
   },
   "file_extension": ".py",
   "mimetype": "text/x-python",
   "name": "python",
   "nbconvert_exporter": "python",
   "pygments_lexer": "ipython3",
   "version": "3.9.13"
  }
 },
 "nbformat": 4,
 "nbformat_minor": 5
}
